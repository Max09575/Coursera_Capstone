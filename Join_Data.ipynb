{
 "cells": [
  {
   "cell_type": "markdown",
   "metadata": {},
   "source": [
    "# Obtain Data by Webscraping and data cleaning "
   ]
  },
  {
   "cell_type": "code",
   "execution_count": 26,
   "metadata": {},
   "outputs": [],
   "source": [
    "import pandas as pd\n",
    "import requests\n",
    "from bs4 import BeautifulSoup # analizar datos estructurados e interactuar con html"
   ]
  },
  {
   "cell_type": "code",
   "execution_count": 35,
   "metadata": {},
   "outputs": [],
   "source": [
    "# función para extraer los datos necesarios de la página web y realizar la limpieza necesaria explicada en el archivo Obtain_Data_Webscraping.ipynb\n",
    "def Obtain_Data_Webscraping():\n",
    "    url = 'https://en.wikipedia.org/wiki/List_of_postal_codes_of_Canada:_M' # url de pagina web\n",
    "    page = requests.get(url) # extraer el contenido html\n",
    "    soup = BeautifulSoup(page.content, \"html.parser\") # para hacer mas manejable las búsquedas\n",
    "    tbody = soup.find(\"tbody\")\n",
    "    PC = []\n",
    "    Borough = []\n",
    "    for i in range(len(tbody.find_all('tr'))):\n",
    "        for j in range(len(tbody.find_all(\"tr\")[i].find_all('td'))):\n",
    "            if tbody.find_all(\"tr\")[i].find_all('td')[j].find('span').text == 'Not assigned':\n",
    "                bij = None\n",
    "                b = None\n",
    "            else:\n",
    "                bij = tbody.find_all(\"tr\")[i].find_all('td')[j].find('span').text\n",
    "            Borough.append(bij)\n",
    "            pcij = tbody.find_all(\"tr\")[i].find_all('td')[j].find('b').text\n",
    "            PC.append(pcij)\n",
    "\n",
    "    Toronto_City = pd.DataFrame({'Postal Code': PC,'Borough and Neighborhood':Borough})\n",
    "    Toronto_City.dropna(inplace=True) # Eliminar registros vacios\n",
    "    # dividir la columna por estos caracteres ()\n",
    "    Borough_and_Neighborhood = Toronto_City[\"Borough and Neighborhood\"].str.split('[()]',expand=True)\n",
    "    # Unir columnas: 1 y 2, ya que en la columna 2 encontramos información necesaria para la columna 1\n",
    "    Borough_and_Neighborhood[1] = Borough_and_Neighborhood[1].str.cat(Borough_and_Neighborhood[2],sep =' ')\n",
    "    # eliminar columnas y reemplazar caracteres \n",
    "    Borough_and_Neighborhood.drop(columns=[2,4],inplace=True)\n",
    "    Borough_and_Neighborhood[1] = Borough_and_Neighborhood[1].str.replace('/',',')\n",
    "    # Unir columnas y reemplazar valores vacíos\n",
    "    Borough_and_Neighborhood[1] = Borough_and_Neighborhood[1].str.cat(Borough_and_Neighborhood[3],sep =',',na_rep='-')\n",
    "    # reemplazamos caracteres y eliminamos columnas\n",
    "    Borough_and_Neighborhood[1]= Borough_and_Neighborhood[1].str.replace(',-','')\n",
    "    Borough_and_Neighborhood.drop(columns=[3],inplace=True)\n",
    "    # Cambiar el nombre de una columna\n",
    "    Borough_and_Neighborhood.rename(columns = {0:\"Borough\",1:\"Neighborhood\"},inplace=True)\n",
    "    # Concatenamos 2 dataframes\n",
    "    Dataset = pd.concat([Toronto_City['Postal Code'], Borough_and_Neighborhood], axis=1)\n",
    "    return Dataset"
   ]
  },
  {
   "cell_type": "code",
   "execution_count": 37,
   "metadata": {},
   "outputs": [
    {
     "data": {
      "text/html": [
       "<div>\n",
       "<style scoped>\n",
       "    .dataframe tbody tr th:only-of-type {\n",
       "        vertical-align: middle;\n",
       "    }\n",
       "\n",
       "    .dataframe tbody tr th {\n",
       "        vertical-align: top;\n",
       "    }\n",
       "\n",
       "    .dataframe thead th {\n",
       "        text-align: right;\n",
       "    }\n",
       "</style>\n",
       "<table border=\"1\" class=\"dataframe\">\n",
       "  <thead>\n",
       "    <tr style=\"text-align: right;\">\n",
       "      <th></th>\n",
       "      <th>Postal Code</th>\n",
       "      <th>Borough</th>\n",
       "      <th>Neighborhood</th>\n",
       "    </tr>\n",
       "  </thead>\n",
       "  <tbody>\n",
       "    <tr>\n",
       "      <th>2</th>\n",
       "      <td>M3A</td>\n",
       "      <td>North York</td>\n",
       "      <td>Parkwoods</td>\n",
       "    </tr>\n",
       "    <tr>\n",
       "      <th>3</th>\n",
       "      <td>M4A</td>\n",
       "      <td>North York</td>\n",
       "      <td>Victoria Village</td>\n",
       "    </tr>\n",
       "    <tr>\n",
       "      <th>4</th>\n",
       "      <td>M5A</td>\n",
       "      <td>Downtown Toronto</td>\n",
       "      <td>Regent Park , Harbourfront</td>\n",
       "    </tr>\n",
       "    <tr>\n",
       "      <th>5</th>\n",
       "      <td>M6A</td>\n",
       "      <td>North York</td>\n",
       "      <td>Lawrence Manor , Lawrence Heights</td>\n",
       "    </tr>\n",
       "    <tr>\n",
       "      <th>6</th>\n",
       "      <td>M7A</td>\n",
       "      <td>Queen's Park</td>\n",
       "      <td>Ontario Provincial Government</td>\n",
       "    </tr>\n",
       "  </tbody>\n",
       "</table>\n",
       "</div>"
      ],
      "text/plain": [
       "  Postal Code           Borough                        Neighborhood\n",
       "2         M3A        North York                          Parkwoods \n",
       "3         M4A        North York                   Victoria Village \n",
       "4         M5A  Downtown Toronto         Regent Park , Harbourfront \n",
       "5         M6A        North York  Lawrence Manor , Lawrence Heights \n",
       "6         M7A      Queen's Park      Ontario Provincial Government "
      ]
     },
     "execution_count": 37,
     "metadata": {},
     "output_type": "execute_result"
    }
   ],
   "source": [
    "Dataset = Obtain_Data_Webscraping() # Resultado\n",
    "Dataset.head()"
   ]
  },
  {
   "cell_type": "markdown",
   "metadata": {},
   "source": [
    "# Join Data "
   ]
  },
  {
   "cell_type": "code",
   "execution_count": 38,
   "metadata": {},
   "outputs": [
    {
     "data": {
      "text/html": [
       "<div>\n",
       "<style scoped>\n",
       "    .dataframe tbody tr th:only-of-type {\n",
       "        vertical-align: middle;\n",
       "    }\n",
       "\n",
       "    .dataframe tbody tr th {\n",
       "        vertical-align: top;\n",
       "    }\n",
       "\n",
       "    .dataframe thead th {\n",
       "        text-align: right;\n",
       "    }\n",
       "</style>\n",
       "<table border=\"1\" class=\"dataframe\">\n",
       "  <thead>\n",
       "    <tr style=\"text-align: right;\">\n",
       "      <th></th>\n",
       "      <th>Postal Code</th>\n",
       "      <th>Latitude</th>\n",
       "      <th>Longitude</th>\n",
       "    </tr>\n",
       "  </thead>\n",
       "  <tbody>\n",
       "    <tr>\n",
       "      <th>0</th>\n",
       "      <td>M1B</td>\n",
       "      <td>43.806686</td>\n",
       "      <td>-79.194353</td>\n",
       "    </tr>\n",
       "    <tr>\n",
       "      <th>1</th>\n",
       "      <td>M1C</td>\n",
       "      <td>43.784535</td>\n",
       "      <td>-79.160497</td>\n",
       "    </tr>\n",
       "    <tr>\n",
       "      <th>2</th>\n",
       "      <td>M1E</td>\n",
       "      <td>43.763573</td>\n",
       "      <td>-79.188711</td>\n",
       "    </tr>\n",
       "    <tr>\n",
       "      <th>3</th>\n",
       "      <td>M1G</td>\n",
       "      <td>43.770992</td>\n",
       "      <td>-79.216917</td>\n",
       "    </tr>\n",
       "    <tr>\n",
       "      <th>4</th>\n",
       "      <td>M1H</td>\n",
       "      <td>43.773136</td>\n",
       "      <td>-79.239476</td>\n",
       "    </tr>\n",
       "  </tbody>\n",
       "</table>\n",
       "</div>"
      ],
      "text/plain": [
       "  Postal Code   Latitude  Longitude\n",
       "0         M1B  43.806686 -79.194353\n",
       "1         M1C  43.784535 -79.160497\n",
       "2         M1E  43.763573 -79.188711\n",
       "3         M1G  43.770992 -79.216917\n",
       "4         M1H  43.773136 -79.239476"
      ]
     },
     "execution_count": 38,
     "metadata": {},
     "output_type": "execute_result"
    }
   ],
   "source": [
    "#leer dataframe de datos geospaciales\n",
    "Geospatial_Cordinates=pd.read_csv('https://ibm.ent.box.com/public/static/9afzr83pps4pwf2smjjcf1y5mvgb18rr.csv')\n",
    "Geospatial_Cordinates.head()"
   ]
  },
  {
   "cell_type": "code",
   "execution_count": 39,
   "metadata": {},
   "outputs": [
    {
     "data": {
      "text/html": [
       "<div>\n",
       "<style scoped>\n",
       "    .dataframe tbody tr th:only-of-type {\n",
       "        vertical-align: middle;\n",
       "    }\n",
       "\n",
       "    .dataframe tbody tr th {\n",
       "        vertical-align: top;\n",
       "    }\n",
       "\n",
       "    .dataframe thead th {\n",
       "        text-align: right;\n",
       "    }\n",
       "</style>\n",
       "<table border=\"1\" class=\"dataframe\">\n",
       "  <thead>\n",
       "    <tr style=\"text-align: right;\">\n",
       "      <th></th>\n",
       "      <th>Postal Code</th>\n",
       "      <th>Borough</th>\n",
       "      <th>Neighborhood</th>\n",
       "      <th>Latitude</th>\n",
       "      <th>Longitude</th>\n",
       "    </tr>\n",
       "  </thead>\n",
       "  <tbody>\n",
       "    <tr>\n",
       "      <th>2</th>\n",
       "      <td>M3A</td>\n",
       "      <td>North York</td>\n",
       "      <td>Parkwoods</td>\n",
       "      <td>43.753259</td>\n",
       "      <td>-79.329656</td>\n",
       "    </tr>\n",
       "    <tr>\n",
       "      <th>3</th>\n",
       "      <td>M4A</td>\n",
       "      <td>North York</td>\n",
       "      <td>Victoria Village</td>\n",
       "      <td>43.725882</td>\n",
       "      <td>-79.315572</td>\n",
       "    </tr>\n",
       "    <tr>\n",
       "      <th>4</th>\n",
       "      <td>M5A</td>\n",
       "      <td>Downtown Toronto</td>\n",
       "      <td>Regent Park , Harbourfront</td>\n",
       "      <td>43.654260</td>\n",
       "      <td>-79.360636</td>\n",
       "    </tr>\n",
       "    <tr>\n",
       "      <th>5</th>\n",
       "      <td>M6A</td>\n",
       "      <td>North York</td>\n",
       "      <td>Lawrence Manor , Lawrence Heights</td>\n",
       "      <td>43.718518</td>\n",
       "      <td>-79.464763</td>\n",
       "    </tr>\n",
       "    <tr>\n",
       "      <th>6</th>\n",
       "      <td>M7A</td>\n",
       "      <td>Queen's Park</td>\n",
       "      <td>Ontario Provincial Government</td>\n",
       "      <td>43.662301</td>\n",
       "      <td>-79.389494</td>\n",
       "    </tr>\n",
       "    <tr>\n",
       "      <th>...</th>\n",
       "      <td>...</td>\n",
       "      <td>...</td>\n",
       "      <td>...</td>\n",
       "      <td>...</td>\n",
       "      <td>...</td>\n",
       "    </tr>\n",
       "    <tr>\n",
       "      <th>160</th>\n",
       "      <td>M8X</td>\n",
       "      <td>Etobicoke</td>\n",
       "      <td>The Kingsway , Montgomery Road , Old Mill North</td>\n",
       "      <td>43.653654</td>\n",
       "      <td>-79.506944</td>\n",
       "    </tr>\n",
       "    <tr>\n",
       "      <th>165</th>\n",
       "      <td>M4Y</td>\n",
       "      <td>Downtown Toronto</td>\n",
       "      <td>Church and Wellesley</td>\n",
       "      <td>43.665860</td>\n",
       "      <td>-79.383160</td>\n",
       "    </tr>\n",
       "    <tr>\n",
       "      <th>168</th>\n",
       "      <td>M7Y</td>\n",
       "      <td>East TorontoBusiness reply mail Processing Cen...</td>\n",
       "      <td>Enclave of M4L</td>\n",
       "      <td>43.662744</td>\n",
       "      <td>-79.321558</td>\n",
       "    </tr>\n",
       "    <tr>\n",
       "      <th>169</th>\n",
       "      <td>M8Y</td>\n",
       "      <td>Etobicoke</td>\n",
       "      <td>Old Mill South , King's Mill Park , Sunnylea ,...</td>\n",
       "      <td>43.636258</td>\n",
       "      <td>-79.498509</td>\n",
       "    </tr>\n",
       "    <tr>\n",
       "      <th>178</th>\n",
       "      <td>M8Z</td>\n",
       "      <td>Etobicoke</td>\n",
       "      <td>Mimico NW , The Queensway West , South of Bloo...</td>\n",
       "      <td>43.628841</td>\n",
       "      <td>-79.520999</td>\n",
       "    </tr>\n",
       "  </tbody>\n",
       "</table>\n",
       "<p>103 rows × 5 columns</p>\n",
       "</div>"
      ],
      "text/plain": [
       "    Postal Code                                            Borough  \\\n",
       "2           M3A                                         North York   \n",
       "3           M4A                                         North York   \n",
       "4           M5A                                   Downtown Toronto   \n",
       "5           M6A                                         North York   \n",
       "6           M7A                                       Queen's Park   \n",
       "..          ...                                                ...   \n",
       "160         M8X                                          Etobicoke   \n",
       "165         M4Y                                   Downtown Toronto   \n",
       "168         M7Y  East TorontoBusiness reply mail Processing Cen...   \n",
       "169         M8Y                                          Etobicoke   \n",
       "178         M8Z                                          Etobicoke   \n",
       "\n",
       "                                          Neighborhood   Latitude  Longitude  \n",
       "2                                           Parkwoods   43.753259 -79.329656  \n",
       "3                                    Victoria Village   43.725882 -79.315572  \n",
       "4                          Regent Park , Harbourfront   43.654260 -79.360636  \n",
       "5                   Lawrence Manor , Lawrence Heights   43.718518 -79.464763  \n",
       "6                       Ontario Provincial Government   43.662301 -79.389494  \n",
       "..                                                 ...        ...        ...  \n",
       "160   The Kingsway , Montgomery Road , Old Mill North   43.653654 -79.506944  \n",
       "165                              Church and Wellesley   43.665860 -79.383160  \n",
       "168                                    Enclave of M4L   43.662744 -79.321558  \n",
       "169  Old Mill South , King's Mill Park , Sunnylea ,...  43.636258 -79.498509  \n",
       "178  Mimico NW , The Queensway West , South of Bloo...  43.628841 -79.520999  \n",
       "\n",
       "[103 rows x 5 columns]"
      ]
     },
     "execution_count": 39,
     "metadata": {},
     "output_type": "execute_result"
    }
   ],
   "source": [
    "# Union de columnas a un dataframen\n",
    "Dataset = Dataset.join(Geospatial_Cordinates.set_index('Postal Code'),on='Postal Code')\n",
    "Dataset"
   ]
  },
  {
   "cell_type": "markdown",
   "metadata": {},
   "source": [
    "# Rename Values of a column"
   ]
  },
  {
   "cell_type": "code",
   "execution_count": 40,
   "metadata": {},
   "outputs": [
    {
     "data": {
      "text/plain": [
       "Borough\n",
       "Central Toronto                                                  9\n",
       "Downtown Toronto                                                17\n",
       "Downtown TorontoStn A PO Boxes25 The Esplanade                   1\n",
       "East Toronto                                                     4\n",
       "East TorontoBusiness reply mail Processing Centre969 Eastern     1\n",
       "East York                                                        4\n",
       "East YorkEast Toronto                                            1\n",
       "Etobicoke                                                       11\n",
       "EtobicokeNorthwest                                               1\n",
       "MississaugaCanada Post Gateway Processing Centre                 1\n",
       "North York                                                      24\n",
       "Queen's Park                                                     1\n",
       "Scarborough                                                     17\n",
       "West Toronto                                                     6\n",
       "York                                                             5\n",
       "dtype: int64"
      ]
     },
     "execution_count": 40,
     "metadata": {},
     "output_type": "execute_result"
    }
   ],
   "source": [
    "# Agrupamientos de los municipios\n",
    "Dataset.groupby('Borough').size()"
   ]
  },
  {
   "cell_type": "code",
   "execution_count": 41,
   "metadata": {},
   "outputs": [
    {
     "data": {
      "text/plain": [
       "(102, 5)"
      ]
     },
     "execution_count": 41,
     "metadata": {},
     "output_type": "execute_result"
    }
   ],
   "source": [
    "# Eliminar un registro\n",
    "indexdrop = Dataset[Dataset['Borough']=='MississaugaCanada Post Gateway Processing Centre'].index\n",
    "Dataset.drop(indexdrop , inplace=True)\n",
    "\n",
    "# Reemplazar valores dentro de una columna\n",
    "Dataset.replace({'Borough': {\n",
    "    'Central Toronto':'Downtown Toronto',\n",
    "    'Downtown TorontoStn A PO Boxes25 The Esplanade':'Downtown Toronto',\n",
    "    \"Queen's Park\":\"Downtown Toronto\",\n",
    "    'East Toronto':'East York',\n",
    "    'East TorontoBusiness reply mail Processing Centre969 Eastern':'East York',\n",
    "    'East YorkEast Toronto':'East York',\n",
    "    'EtobicokeNorthwest':'Etobicoke',\n",
    "    'West Toronto':'York',\n",
    "    }},inplace=True)\n",
    "\n",
    "# Modificamos el indice\n",
    "Dataset.reset_index(drop=True,inplace=True)\n",
    "\n",
    "# Dimensión del dataframe\n",
    "Dataset.shape"
   ]
  },
  {
   "cell_type": "code",
   "execution_count": 42,
   "metadata": {},
   "outputs": [
    {
     "data": {
      "text/plain": [
       "Borough\n",
       "Downtown Toronto    28\n",
       "East York           10\n",
       "Etobicoke           12\n",
       "North York          24\n",
       "Scarborough         17\n",
       "York                11\n",
       "dtype: int64"
      ]
     },
     "execution_count": 42,
     "metadata": {},
     "output_type": "execute_result"
    }
   ],
   "source": [
    "# Agrupamientos de los municipios\n",
    "Dataset.groupby('Borough').size().sort_values(ascending=False)"
   ]
  }
 ],
 "metadata": {
  "kernelspec": {
   "display_name": "Python 3.10.5 64-bit",
   "language": "python",
   "name": "python3"
  },
  "language_info": {
   "codemirror_mode": {
    "name": "ipython",
    "version": 3
   },
   "file_extension": ".py",
   "mimetype": "text/x-python",
   "name": "python",
   "nbconvert_exporter": "python",
   "pygments_lexer": "ipython3",
   "version": "3.10.5"
  },
  "orig_nbformat": 4,
  "vscode": {
   "interpreter": {
    "hash": "26de051ba29f2982a8de78e945f0abaf191376122a1563185a90213a26c5da77"
   }
  }
 },
 "nbformat": 4,
 "nbformat_minor": 2
}
